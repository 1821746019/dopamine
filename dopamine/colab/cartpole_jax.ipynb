{
  "cells": [
    {
      "cell_type": "markdown",
      "metadata": {
        "id": "VYNA79KmgvbY"
      },
      "source": [
        "Copyright 2019 The Dopamine Authors.\n",
        "\n",
        "Licensed under the Apache License, Version 2.0 (the \"License\"); you may not use this file except in compliance with the License. You may obtain a copy of the License at\n",
        "\n",
        "https://www.apache.org/licenses/LICENSE-2.0\n",
        "\n",
        "Unless required by applicable law or agreed to in writing, software distributed under the License is distributed on an \"AS IS\" BASIS, WITHOUT WARRANTIES OR CONDITIONS OF ANY KIND, either express or implied. See the License for the specific language governing permissions and limitations under the License."
      ]
    },
    {
      "cell_type": "markdown",
      "metadata": {
        "id": "emUEZEvldNyX"
      },
      "source": [
        "# Dopamine: How to train an agent on Cartpole\n",
        "\n",
        "This colab demonstrates how to train the DQN and C51 on Cartpole, based on the default configurations provided.\n",
        "\n",
        "The hyperparameters chosen are by no mean optimal. The purpose of this colab is to illustrate how to train two\n",
        "agents on a non-Atari gym environment: cartpole.\n",
        "\n",
        "We also include default configurations for Acrobot in our repository: https://github.com/google/dopamine\n",
        "\n",
        "Run all the cells below in order."
      ]
    },
    {
      "cell_type": "code",
      "source": [
        "!pip install git+https://github.com/openai/baselines@tf2"
      ],
      "metadata": {
        "id": "Oisl40xxrfim",
        "outputId": "7e3e4804-085c-41fa-f846-2c2c6a82a98c",
        "colab": {
          "base_uri": "https://localhost:8080/"
        }
      },
      "execution_count": 4,
      "outputs": [
        {
          "output_type": "stream",
          "name": "stdout",
          "text": [
            "Collecting git+https://github.com/openai/baselines@tf2\n",
            "  Cloning https://github.com/openai/baselines (to revision tf2) to /tmp/pip-req-build-bnranicl\n",
            "  Running command git clone --filter=blob:none --quiet https://github.com/openai/baselines /tmp/pip-req-build-bnranicl\n",
            "  Running command git checkout -b tf2 --track origin/tf2\n",
            "  Switched to a new branch 'tf2'\n",
            "  Branch 'tf2' set up to track remote branch 'tf2' from 'origin'.\n",
            "  Resolved https://github.com/openai/baselines to commit b99a73afe37206775ac8b884d32a36e213a3fac2\n",
            "  Preparing metadata (setup.py) ... \u001b[?25l\u001b[?25hdone\n",
            "Collecting gym<0.14 (from baselines==0.1.5)\n",
            "  Downloading gym-0.13.1.tar.gz (1.6 MB)\n",
            "\u001b[2K     \u001b[90m━━━━━━━━━━━━━━━━━━━━━━━━━━━━━━━━━━━━━━━━\u001b[0m \u001b[32m1.6/1.6 MB\u001b[0m \u001b[31m19.3 MB/s\u001b[0m eta \u001b[36m0:00:00\u001b[0m\n",
            "\u001b[?25h  Preparing metadata (setup.py) ... \u001b[?25l\u001b[?25hdone\n",
            "Requirement already satisfied: scipy in /usr/local/lib/python3.11/dist-packages (from baselines==0.1.5) (1.15.3)\n",
            "Requirement already satisfied: tqdm in /usr/local/lib/python3.11/dist-packages (from baselines==0.1.5) (4.67.1)\n",
            "Requirement already satisfied: joblib in /usr/local/lib/python3.11/dist-packages (from baselines==0.1.5) (1.5.0)\n",
            "Collecting dill (from baselines==0.1.5)\n",
            "  Downloading dill-0.4.0-py3-none-any.whl.metadata (10 kB)\n",
            "Collecting progressbar2 (from baselines==0.1.5)\n",
            "  Downloading progressbar2-4.5.0-py3-none-any.whl.metadata (16 kB)\n",
            "Requirement already satisfied: cloudpickle in /usr/local/lib/python3.11/dist-packages (from baselines==0.1.5) (3.1.1)\n",
            "Requirement already satisfied: click in /usr/local/lib/python3.11/dist-packages (from baselines==0.1.5) (8.2.0)\n",
            "Requirement already satisfied: opencv-python in /usr/local/lib/python3.11/dist-packages (from baselines==0.1.5) (4.11.0.86)\n",
            "Requirement already satisfied: numpy>=1.10.4 in /usr/local/lib/python3.11/dist-packages (from gym<0.14->baselines==0.1.5) (2.0.2)\n",
            "Requirement already satisfied: six in /usr/local/lib/python3.11/dist-packages (from gym<0.14->baselines==0.1.5) (1.17.0)\n",
            "Collecting pyglet<=1.3.2,>=1.2.0 (from gym<0.14->baselines==0.1.5)\n",
            "  Downloading pyglet-1.3.2-py2.py3-none-any.whl.metadata (1.4 kB)\n",
            "Collecting cloudpickle (from baselines==0.1.5)\n",
            "  Downloading cloudpickle-1.2.2-py2.py3-none-any.whl.metadata (4.7 kB)\n",
            "Collecting python-utils>=3.8.1 (from progressbar2->baselines==0.1.5)\n",
            "  Downloading python_utils-3.9.1-py2.py3-none-any.whl.metadata (9.8 kB)\n",
            "Collecting future (from pyglet<=1.3.2,>=1.2.0->gym<0.14->baselines==0.1.5)\n",
            "  Downloading future-1.0.0-py3-none-any.whl.metadata (4.0 kB)\n",
            "Requirement already satisfied: typing_extensions>3.10.0.2 in /usr/local/lib/python3.11/dist-packages (from python-utils>=3.8.1->progressbar2->baselines==0.1.5) (4.13.2)\n",
            "Downloading cloudpickle-1.2.2-py2.py3-none-any.whl (25 kB)\n",
            "Downloading dill-0.4.0-py3-none-any.whl (119 kB)\n",
            "\u001b[2K   \u001b[90m━━━━━━━━━━━━━━━━━━━━━━━━━━━━━━━━━━━━━━━━\u001b[0m \u001b[32m119.7/119.7 kB\u001b[0m \u001b[31m9.7 MB/s\u001b[0m eta \u001b[36m0:00:00\u001b[0m\n",
            "\u001b[?25hDownloading progressbar2-4.5.0-py3-none-any.whl (57 kB)\n",
            "\u001b[2K   \u001b[90m━━━━━━━━━━━━━━━━━━━━━━━━━━━━━━━━━━━━━━━━\u001b[0m \u001b[32m57.1/57.1 kB\u001b[0m \u001b[31m4.6 MB/s\u001b[0m eta \u001b[36m0:00:00\u001b[0m\n",
            "\u001b[?25hDownloading pyglet-1.3.2-py2.py3-none-any.whl (1.0 MB)\n",
            "\u001b[2K   \u001b[90m━━━━━━━━━━━━━━━━━━━━━━━━━━━━━━━━━━━━━━━━\u001b[0m \u001b[32m1.0/1.0 MB\u001b[0m \u001b[31m48.7 MB/s\u001b[0m eta \u001b[36m0:00:00\u001b[0m\n",
            "\u001b[?25hDownloading python_utils-3.9.1-py2.py3-none-any.whl (32 kB)\n",
            "Downloading future-1.0.0-py3-none-any.whl (491 kB)\n",
            "\u001b[2K   \u001b[90m━━━━━━━━━━━━━━━━━━━━━━━━━━━━━━━━━━━━━━━━\u001b[0m \u001b[32m491.3/491.3 kB\u001b[0m \u001b[31m32.4 MB/s\u001b[0m eta \u001b[36m0:00:00\u001b[0m\n",
            "\u001b[?25hBuilding wheels for collected packages: baselines, gym\n",
            "  Building wheel for baselines (setup.py) ... \u001b[?25l\u001b[?25hdone\n",
            "  Created wheel for baselines: filename=baselines-0.1.5-py3-none-any.whl size=128562 sha256=fe5985f570ba6d5ddc0fda9b47a0c1c46277e732ef2f8af91ea4e9d5a84c383c\n",
            "  Stored in directory: /tmp/pip-ephem-wheel-cache-ta1ohpvr/wheels/28/cd/5c/54c19da762656ac68a35e0ca8621c6dba37b6105a5f519baa7\n",
            "  Building wheel for gym (setup.py) ... \u001b[?25l\u001b[?25hdone\n",
            "  Created wheel for gym: filename=gym-0.13.1-py3-none-any.whl size=1635609 sha256=cbbf3417d593955612dd530572627b3b074853851a6779aed97443cbb3cf4429\n",
            "  Stored in directory: /root/.cache/pip/wheels/ec/ee/a0/d4ac5cdc52d0db8416d6641599e87495e89f029d0b398eb129\n",
            "Successfully built baselines gym\n",
            "Installing collected packages: cloudpickle, python-utils, future, dill, pyglet, progressbar2, gym, baselines\n",
            "  Attempting uninstall: cloudpickle\n",
            "    Found existing installation: cloudpickle 3.1.1\n",
            "    Uninstalling cloudpickle-3.1.1:\n",
            "      Successfully uninstalled cloudpickle-3.1.1\n",
            "  Attempting uninstall: gym\n",
            "    Found existing installation: gym 0.25.2\n",
            "    Uninstalling gym-0.25.2:\n",
            "      Successfully uninstalled gym-0.25.2\n",
            "\u001b[31mERROR: pip's dependency resolver does not currently take into account all the packages that are installed. This behaviour is the source of the following dependency conflicts.\n",
            "tensorflow-probability 0.25.0 requires cloudpickle>=1.3, but you have cloudpickle 1.2.2 which is incompatible.\u001b[0m\u001b[31m\n",
            "\u001b[0mSuccessfully installed baselines-0.1.5 cloudpickle-1.2.2 dill-0.4.0 future-1.0.0 gym-0.13.1 progressbar2-4.5.0 pyglet-1.3.2 python-utils-3.9.1\n"
          ]
        }
      ]
    },
    {
      "cell_type": "code",
      "execution_count": 2,
      "metadata": {
        "colab": {
          "base_uri": "https://localhost:8080/"
        },
        "id": "Ckq6WG-seC7F",
        "outputId": "fb806a46-d8fd-4943-e855-2142d6f9a793"
      },
      "outputs": [
        {
          "output_type": "stream",
          "name": "stdout",
          "text": [
            "Collecting git+https://github.com/google/dopamine.git\n",
            "  Cloning https://github.com/google/dopamine.git to /tmp/pip-req-build-51f4asly\n",
            "  Running command git clone --filter=blob:none --quiet https://github.com/google/dopamine.git /tmp/pip-req-build-51f4asly\n",
            "  Resolved https://github.com/google/dopamine.git to commit bec5f4e108b0572e58fc1af73136e978237c8463\n",
            "  Installing build dependencies ... \u001b[?25l\u001b[?25hdone\n",
            "  Getting requirements to build wheel ... \u001b[?25l\u001b[?25hdone\n",
            "  Preparing metadata (pyproject.toml) ... \u001b[?25l\u001b[?25hdone\n",
            "Collecting tensorflow>=2.2.0 (from dopamine_rl==4.1.2)\n",
            "  Downloading tensorflow-2.19.0-cp311-cp311-manylinux_2_17_x86_64.manylinux2014_x86_64.whl.metadata (4.1 kB)\n",
            "Collecting gin-config>=0.3.0 (from dopamine_rl==4.1.2)\n",
            "  Downloading gin_config-0.5.0-py3-none-any.whl.metadata (2.9 kB)\n",
            "Requirement already satisfied: absl-py>=0.9.0 in /usr/local/lib/python3.11/dist-packages (from dopamine_rl==4.1.2) (1.4.0)\n",
            "Collecting ale_py>=0.10.1 (from dopamine_rl==4.1.2)\n",
            "  Downloading ale_py-0.11.0-cp311-cp311-manylinux_2_17_x86_64.manylinux2014_x86_64.whl.metadata (8.2 kB)\n",
            "Collecting opencv-python>=3.4.8.29 (from dopamine_rl==4.1.2)\n",
            "  Downloading opencv_python-4.11.0.86-cp37-abi3-manylinux_2_17_x86_64.manylinux2014_x86_64.whl.metadata (20 kB)\n",
            "Collecting gym<=0.25.2 (from dopamine_rl==4.1.2)\n",
            "  Downloading gym-0.25.2.tar.gz (734 kB)\n",
            "\u001b[2K     \u001b[90m━━━━━━━━━━━━━━━━━━━━━━━━━━━━━━━━━━━━━━\u001b[0m \u001b[32m734.5/734.5 kB\u001b[0m \u001b[31m12.4 MB/s\u001b[0m eta \u001b[36m0:00:00\u001b[0m\n",
            "\u001b[?25h  Installing build dependencies ... \u001b[?25l\u001b[?25hdone\n",
            "  Getting requirements to build wheel ... \u001b[?25l\u001b[?25hdone\n",
            "  Preparing metadata (pyproject.toml) ... \u001b[?25l\u001b[?25hdone\n",
            "Collecting gymnasium>=1.0.0 (from dopamine_rl==4.1.2)\n",
            "  Downloading gymnasium-1.1.1-py3-none-any.whl.metadata (9.4 kB)\n",
            "Requirement already satisfied: flax>=0.2.0 in /usr/local/lib/python3.11/dist-packages (from dopamine_rl==4.1.2) (0.10.6)\n",
            "Requirement already satisfied: jax>=0.1.72 in /usr/local/lib/python3.11/dist-packages (from dopamine_rl==4.1.2) (0.5.2)\n",
            "Requirement already satisfied: jaxlib>=0.1.51 in /usr/local/lib/python3.11/dist-packages (from dopamine_rl==4.1.2) (0.5.1)\n",
            "Requirement already satisfied: Pillow>=7.0.0 in /usr/local/lib/python3.11/dist-packages (from dopamine_rl==4.1.2) (11.2.1)\n",
            "Requirement already satisfied: numpy>=1.16.4 in /usr/local/lib/python3.11/dist-packages (from dopamine_rl==4.1.2) (2.0.2)\n",
            "Collecting pygame>=1.9.2 (from dopamine_rl==4.1.2)\n",
            "  Downloading pygame-2.6.1-cp311-cp311-manylinux_2_17_x86_64.manylinux2014_x86_64.whl.metadata (12 kB)\n",
            "Requirement already satisfied: pandas>=0.24.2 in /usr/local/lib/python3.11/dist-packages (from dopamine_rl==4.1.2) (2.2.2)\n",
            "Collecting python-snappy>=0.7.3 (from dopamine_rl==4.1.2)\n",
            "  Downloading python_snappy-0.7.3-py3-none-any.whl.metadata (1.3 kB)\n",
            "Collecting tf_slim>=1.0 (from dopamine_rl==4.1.2)\n",
            "  Downloading tf_slim-1.1.0-py2.py3-none-any.whl.metadata (1.6 kB)\n",
            "Requirement already satisfied: tensorflow-probability>=0.13.0 in /usr/local/lib/python3.11/dist-packages (from dopamine_rl==4.1.2) (0.25.0)\n",
            "Collecting tf-keras>=2.18.0 (from dopamine_rl==4.1.2)\n",
            "  Downloading tf_keras-2.19.0-py3-none-any.whl.metadata (1.8 kB)\n",
            "Requirement already satisfied: tqdm>=4.64.1 in /usr/local/lib/python3.11/dist-packages (from dopamine_rl==4.1.2) (4.67.1)\n",
            "Requirement already satisfied: msgpack in /usr/local/lib/python3.11/dist-packages (from flax>=0.2.0->dopamine_rl==4.1.2) (1.1.0)\n",
            "Requirement already satisfied: optax in /usr/local/lib/python3.11/dist-packages (from flax>=0.2.0->dopamine_rl==4.1.2) (0.2.4)\n",
            "Requirement already satisfied: orbax-checkpoint in /usr/local/lib/python3.11/dist-packages (from flax>=0.2.0->dopamine_rl==4.1.2) (0.11.13)\n",
            "Requirement already satisfied: tensorstore in /usr/local/lib/python3.11/dist-packages (from flax>=0.2.0->dopamine_rl==4.1.2) (0.1.74)\n",
            "Requirement already satisfied: rich>=11.1 in /usr/local/lib/python3.11/dist-packages (from flax>=0.2.0->dopamine_rl==4.1.2) (14.0.0)\n",
            "Requirement already satisfied: typing_extensions>=4.2 in /usr/local/lib/python3.11/dist-packages (from flax>=0.2.0->dopamine_rl==4.1.2) (4.13.2)\n",
            "Requirement already satisfied: PyYAML>=5.4.1 in /usr/local/lib/python3.11/dist-packages (from flax>=0.2.0->dopamine_rl==4.1.2) (6.0.2)\n",
            "Requirement already satisfied: treescope>=0.1.7 in /usr/local/lib/python3.11/dist-packages (from flax>=0.2.0->dopamine_rl==4.1.2) (0.1.9)\n",
            "Requirement already satisfied: cloudpickle>=1.2.0 in /usr/local/lib/python3.11/dist-packages (from gym<=0.25.2->dopamine_rl==4.1.2) (3.1.1)\n",
            "Collecting gym_notices>=0.0.4 (from gym<=0.25.2->dopamine_rl==4.1.2)\n",
            "  Downloading gym_notices-0.0.8-py3-none-any.whl.metadata (1.0 kB)\n",
            "Collecting farama-notifications>=0.0.1 (from gymnasium>=1.0.0->dopamine_rl==4.1.2)\n",
            "  Downloading Farama_Notifications-0.0.4-py3-none-any.whl.metadata (558 bytes)\n",
            "Requirement already satisfied: ml_dtypes>=0.4.0 in /usr/local/lib/python3.11/dist-packages (from jax>=0.1.72->dopamine_rl==4.1.2) (0.5.1)\n",
            "Requirement already satisfied: opt_einsum in /usr/local/lib/python3.11/dist-packages (from jax>=0.1.72->dopamine_rl==4.1.2) (3.4.0)\n",
            "Requirement already satisfied: scipy>=1.11.1 in /usr/local/lib/python3.11/dist-packages (from jax>=0.1.72->dopamine_rl==4.1.2) (1.15.3)\n",
            "Requirement already satisfied: python-dateutil>=2.8.2 in /usr/local/lib/python3.11/dist-packages (from pandas>=0.24.2->dopamine_rl==4.1.2) (2.9.0.post0)\n",
            "Requirement already satisfied: pytz>=2020.1 in /usr/local/lib/python3.11/dist-packages (from pandas>=0.24.2->dopamine_rl==4.1.2) (2025.2)\n",
            "Requirement already satisfied: tzdata>=2022.7 in /usr/local/lib/python3.11/dist-packages (from pandas>=0.24.2->dopamine_rl==4.1.2) (2025.2)\n",
            "Collecting cramjam (from python-snappy>=0.7.3->dopamine_rl==4.1.2)\n",
            "  Downloading cramjam-2.10.0-cp311-cp311-manylinux_2_17_x86_64.manylinux2014_x86_64.whl.metadata (5.0 kB)\n",
            "Collecting astunparse>=1.6.0 (from tensorflow>=2.2.0->dopamine_rl==4.1.2)\n",
            "  Downloading astunparse-1.6.3-py2.py3-none-any.whl.metadata (4.4 kB)\n",
            "Collecting flatbuffers>=24.3.25 (from tensorflow>=2.2.0->dopamine_rl==4.1.2)\n",
            "  Downloading flatbuffers-25.2.10-py2.py3-none-any.whl.metadata (875 bytes)\n",
            "Requirement already satisfied: gast!=0.5.0,!=0.5.1,!=0.5.2,>=0.2.1 in /usr/local/lib/python3.11/dist-packages (from tensorflow>=2.2.0->dopamine_rl==4.1.2) (0.6.0)\n",
            "Collecting google-pasta>=0.1.1 (from tensorflow>=2.2.0->dopamine_rl==4.1.2)\n",
            "  Downloading google_pasta-0.2.0-py3-none-any.whl.metadata (814 bytes)\n",
            "Collecting libclang>=13.0.0 (from tensorflow>=2.2.0->dopamine_rl==4.1.2)\n",
            "  Downloading libclang-18.1.1-py2.py3-none-manylinux2010_x86_64.whl.metadata (5.2 kB)\n",
            "Requirement already satisfied: packaging in /usr/local/lib/python3.11/dist-packages (from tensorflow>=2.2.0->dopamine_rl==4.1.2) (25.0)\n",
            "Requirement already satisfied: protobuf!=4.21.0,!=4.21.1,!=4.21.2,!=4.21.3,!=4.21.4,!=4.21.5,<6.0.0dev,>=3.20.3 in /usr/local/lib/python3.11/dist-packages (from tensorflow>=2.2.0->dopamine_rl==4.1.2) (5.29.4)\n",
            "Requirement already satisfied: requests<3,>=2.21.0 in /usr/local/lib/python3.11/dist-packages (from tensorflow>=2.2.0->dopamine_rl==4.1.2) (2.32.3)\n",
            "Requirement already satisfied: setuptools in /usr/local/lib/python3.11/dist-packages (from tensorflow>=2.2.0->dopamine_rl==4.1.2) (75.2.0)\n",
            "Requirement already satisfied: six>=1.12.0 in /usr/local/lib/python3.11/dist-packages (from tensorflow>=2.2.0->dopamine_rl==4.1.2) (1.17.0)\n",
            "Requirement already satisfied: termcolor>=1.1.0 in /usr/local/lib/python3.11/dist-packages (from tensorflow>=2.2.0->dopamine_rl==4.1.2) (3.1.0)\n",
            "Requirement already satisfied: wrapt>=1.11.0 in /usr/local/lib/python3.11/dist-packages (from tensorflow>=2.2.0->dopamine_rl==4.1.2) (1.17.2)\n",
            "Requirement already satisfied: grpcio<2.0,>=1.24.3 in /usr/local/lib/python3.11/dist-packages (from tensorflow>=2.2.0->dopamine_rl==4.1.2) (1.71.0)\n",
            "Collecting tensorboard~=2.19.0 (from tensorflow>=2.2.0->dopamine_rl==4.1.2)\n",
            "  Downloading tensorboard-2.19.0-py3-none-any.whl.metadata (1.8 kB)\n",
            "Requirement already satisfied: keras>=3.5.0 in /usr/local/lib/python3.11/dist-packages (from tensorflow>=2.2.0->dopamine_rl==4.1.2) (3.8.0)\n",
            "Requirement already satisfied: h5py>=3.11.0 in /usr/local/lib/python3.11/dist-packages (from tensorflow>=2.2.0->dopamine_rl==4.1.2) (3.13.0)\n",
            "Collecting tensorflow-io-gcs-filesystem>=0.23.1 (from tensorflow>=2.2.0->dopamine_rl==4.1.2)\n",
            "  Downloading tensorflow_io_gcs_filesystem-0.37.1-cp311-cp311-manylinux_2_17_x86_64.manylinux2014_x86_64.whl.metadata (14 kB)\n",
            "Requirement already satisfied: decorator in /usr/local/lib/python3.11/dist-packages (from tensorflow-probability>=0.13.0->dopamine_rl==4.1.2) (5.2.1)\n",
            "Requirement already satisfied: dm-tree in /usr/local/lib/python3.11/dist-packages (from tensorflow-probability>=0.13.0->dopamine_rl==4.1.2) (0.1.9)\n",
            "Collecting wheel<1.0,>=0.23.0 (from astunparse>=1.6.0->tensorflow>=2.2.0->dopamine_rl==4.1.2)\n",
            "  Downloading wheel-0.45.1-py3-none-any.whl.metadata (2.3 kB)\n",
            "Requirement already satisfied: namex in /usr/local/lib/python3.11/dist-packages (from keras>=3.5.0->tensorflow>=2.2.0->dopamine_rl==4.1.2) (0.0.9)\n",
            "Requirement already satisfied: optree in /usr/local/lib/python3.11/dist-packages (from keras>=3.5.0->tensorflow>=2.2.0->dopamine_rl==4.1.2) (0.15.0)\n",
            "Requirement already satisfied: charset-normalizer<4,>=2 in /usr/local/lib/python3.11/dist-packages (from requests<3,>=2.21.0->tensorflow>=2.2.0->dopamine_rl==4.1.2) (3.4.2)\n",
            "Requirement already satisfied: idna<4,>=2.5 in /usr/local/lib/python3.11/dist-packages (from requests<3,>=2.21.0->tensorflow>=2.2.0->dopamine_rl==4.1.2) (3.10)\n",
            "Requirement already satisfied: urllib3<3,>=1.21.1 in /usr/local/lib/python3.11/dist-packages (from requests<3,>=2.21.0->tensorflow>=2.2.0->dopamine_rl==4.1.2) (2.4.0)\n",
            "Requirement already satisfied: certifi>=2017.4.17 in /usr/local/lib/python3.11/dist-packages (from requests<3,>=2.21.0->tensorflow>=2.2.0->dopamine_rl==4.1.2) (2025.4.26)\n",
            "Requirement already satisfied: markdown-it-py>=2.2.0 in /usr/local/lib/python3.11/dist-packages (from rich>=11.1->flax>=0.2.0->dopamine_rl==4.1.2) (3.0.0)\n",
            "Requirement already satisfied: pygments<3.0.0,>=2.13.0 in /usr/local/lib/python3.11/dist-packages (from rich>=11.1->flax>=0.2.0->dopamine_rl==4.1.2) (2.19.1)\n",
            "Requirement already satisfied: markdown>=2.6.8 in /usr/lib/python3/dist-packages (from tensorboard~=2.19.0->tensorflow>=2.2.0->dopamine_rl==4.1.2) (3.3.6)\n",
            "Collecting tensorboard-data-server<0.8.0,>=0.7.0 (from tensorboard~=2.19.0->tensorflow>=2.2.0->dopamine_rl==4.1.2)\n",
            "  Downloading tensorboard_data_server-0.7.2-py3-none-manylinux_2_31_x86_64.whl.metadata (1.1 kB)\n",
            "Collecting werkzeug>=1.0.1 (from tensorboard~=2.19.0->tensorflow>=2.2.0->dopamine_rl==4.1.2)\n",
            "  Downloading werkzeug-3.1.3-py3-none-any.whl.metadata (3.7 kB)\n",
            "Requirement already satisfied: attrs>=18.2.0 in /usr/local/lib/python3.11/dist-packages (from dm-tree->tensorflow-probability>=0.13.0->dopamine_rl==4.1.2) (25.3.0)\n",
            "Requirement already satisfied: chex>=0.1.87 in /usr/local/lib/python3.11/dist-packages (from optax->flax>=0.2.0->dopamine_rl==4.1.2) (0.1.89)\n",
            "Requirement already satisfied: etils[epy] in /usr/local/lib/python3.11/dist-packages (from optax->flax>=0.2.0->dopamine_rl==4.1.2) (1.12.2)\n",
            "Requirement already satisfied: nest_asyncio in /usr/local/lib/python3.11/dist-packages (from orbax-checkpoint->flax>=0.2.0->dopamine_rl==4.1.2) (1.6.0)\n",
            "Requirement already satisfied: humanize in /usr/local/lib/python3.11/dist-packages (from orbax-checkpoint->flax>=0.2.0->dopamine_rl==4.1.2) (4.12.3)\n",
            "Requirement already satisfied: simplejson>=3.16.0 in /usr/local/lib/python3.11/dist-packages (from orbax-checkpoint->flax>=0.2.0->dopamine_rl==4.1.2) (3.20.1)\n",
            "Requirement already satisfied: toolz>=0.9.0 in /usr/local/lib/python3.11/dist-packages (from chex>=0.1.87->optax->flax>=0.2.0->dopamine_rl==4.1.2) (1.0.0)\n",
            "Requirement already satisfied: mdurl~=0.1 in /usr/local/lib/python3.11/dist-packages (from markdown-it-py>=2.2.0->rich>=11.1->flax>=0.2.0->dopamine_rl==4.1.2) (0.1.2)\n",
            "Requirement already satisfied: MarkupSafe>=2.1.1 in /usr/local/lib/python3.11/dist-packages (from werkzeug>=1.0.1->tensorboard~=2.19.0->tensorflow>=2.2.0->dopamine_rl==4.1.2) (3.0.2)\n",
            "Requirement already satisfied: fsspec in /usr/local/lib/python3.11/dist-packages (from etils[epath,epy]->orbax-checkpoint->flax>=0.2.0->dopamine_rl==4.1.2) (2025.3.2)\n",
            "Requirement already satisfied: importlib_resources in /usr/local/lib/python3.11/dist-packages (from etils[epath,epy]->orbax-checkpoint->flax>=0.2.0->dopamine_rl==4.1.2) (6.5.2)\n",
            "Requirement already satisfied: zipp in /usr/local/lib/python3.11/dist-packages (from etils[epath,epy]->orbax-checkpoint->flax>=0.2.0->dopamine_rl==4.1.2) (3.21.0)\n",
            "Downloading ale_py-0.11.0-cp311-cp311-manylinux_2_17_x86_64.manylinux2014_x86_64.whl (4.6 MB)\n",
            "\u001b[2K   \u001b[90m━━━━━━━━━━━━━━━━━━━━━━━━━━━━━━━━━━━━━━━━\u001b[0m \u001b[32m4.6/4.6 MB\u001b[0m \u001b[31m74.8 MB/s\u001b[0m eta \u001b[36m0:00:00\u001b[0m\n",
            "\u001b[?25hDownloading gin_config-0.5.0-py3-none-any.whl (61 kB)\n",
            "\u001b[2K   \u001b[90m━━━━━━━━━━━━━━━━━━━━━━━━━━━━━━━━━━━━━━━━\u001b[0m \u001b[32m61.3/61.3 kB\u001b[0m \u001b[31m4.7 MB/s\u001b[0m eta \u001b[36m0:00:00\u001b[0m\n",
            "\u001b[?25hDownloading gymnasium-1.1.1-py3-none-any.whl (965 kB)\n",
            "\u001b[2K   \u001b[90m━━━━━━━━━━━━━━━━━━━━━━━━━━━━━━━━━━━━━━━━\u001b[0m \u001b[32m965.4/965.4 kB\u001b[0m \u001b[31m45.9 MB/s\u001b[0m eta \u001b[36m0:00:00\u001b[0m\n",
            "\u001b[?25hDownloading opencv_python-4.11.0.86-cp37-abi3-manylinux_2_17_x86_64.manylinux2014_x86_64.whl (63.0 MB)\n",
            "\u001b[2K   \u001b[90m━━━━━━━━━━━━━━━━━━━━━━━━━━━━━━━━━━━━━━━━\u001b[0m \u001b[32m63.0/63.0 MB\u001b[0m \u001b[31m20.4 MB/s\u001b[0m eta \u001b[36m0:00:00\u001b[0m\n",
            "\u001b[?25hDownloading pygame-2.6.1-cp311-cp311-manylinux_2_17_x86_64.manylinux2014_x86_64.whl (14.0 MB)\n",
            "\u001b[2K   \u001b[90m━━━━━━━━━━━━━━━━━━━━━━━━━━━━━━━━━━━━━━━━\u001b[0m \u001b[32m14.0/14.0 MB\u001b[0m \u001b[31m114.3 MB/s\u001b[0m eta \u001b[36m0:00:00\u001b[0m\n",
            "\u001b[?25hDownloading python_snappy-0.7.3-py3-none-any.whl (9.2 kB)\n",
            "Downloading tensorflow-2.19.0-cp311-cp311-manylinux_2_17_x86_64.manylinux2014_x86_64.whl (644.9 MB)\n",
            "\u001b[2K   \u001b[90m━━━━━━━━━━━━━━━━━━━━━━━━━━━━━━━━━━━━━━━━\u001b[0m \u001b[32m644.9/644.9 MB\u001b[0m \u001b[31m1.6 MB/s\u001b[0m eta \u001b[36m0:00:00\u001b[0m\n",
            "\u001b[?25hDownloading tf_keras-2.19.0-py3-none-any.whl (1.7 MB)\n",
            "\u001b[2K   \u001b[90m━━━━━━━━━━━━━━━━━━━━━━━━━━━━━━━━━━━━━━━━\u001b[0m \u001b[32m1.7/1.7 MB\u001b[0m \u001b[31m67.0 MB/s\u001b[0m eta \u001b[36m0:00:00\u001b[0m\n",
            "\u001b[?25hDownloading tf_slim-1.1.0-py2.py3-none-any.whl (352 kB)\n",
            "\u001b[2K   \u001b[90m━━━━━━━━━━━━━━━━━━━━━━━━━━━━━━━━━━━━━━━━\u001b[0m \u001b[32m352.1/352.1 kB\u001b[0m \u001b[31m25.1 MB/s\u001b[0m eta \u001b[36m0:00:00\u001b[0m\n",
            "\u001b[?25hDownloading astunparse-1.6.3-py2.py3-none-any.whl (12 kB)\n",
            "Downloading Farama_Notifications-0.0.4-py3-none-any.whl (2.5 kB)\n",
            "Downloading flatbuffers-25.2.10-py2.py3-none-any.whl (30 kB)\n",
            "Downloading google_pasta-0.2.0-py3-none-any.whl (57 kB)\n",
            "\u001b[2K   \u001b[90m━━━━━━━━━━━━━━━━━━━━━━━━━━━━━━━━━━━━━━━━\u001b[0m \u001b[32m57.5/57.5 kB\u001b[0m \u001b[31m4.9 MB/s\u001b[0m eta \u001b[36m0:00:00\u001b[0m\n",
            "\u001b[?25hDownloading gym_notices-0.0.8-py3-none-any.whl (3.0 kB)\n",
            "Downloading libclang-18.1.1-py2.py3-none-manylinux2010_x86_64.whl (24.5 MB)\n",
            "\u001b[2K   \u001b[90m━━━━━━━━━━━━━━━━━━━━━━━━━━━━━━━━━━━━━━━━\u001b[0m \u001b[32m24.5/24.5 MB\u001b[0m \u001b[31m85.1 MB/s\u001b[0m eta \u001b[36m0:00:00\u001b[0m\n",
            "\u001b[?25hDownloading tensorboard-2.19.0-py3-none-any.whl (5.5 MB)\n",
            "\u001b[2K   \u001b[90m━━━━━━━━━━━━━━━━━━━━━━━━━━━━━━━━━━━━━━━━\u001b[0m \u001b[32m5.5/5.5 MB\u001b[0m \u001b[31m116.0 MB/s\u001b[0m eta \u001b[36m0:00:00\u001b[0m\n",
            "\u001b[?25hDownloading tensorflow_io_gcs_filesystem-0.37.1-cp311-cp311-manylinux_2_17_x86_64.manylinux2014_x86_64.whl (5.1 MB)\n",
            "\u001b[2K   \u001b[90m━━━━━━━━━━━━━━━━━━━━━━━━━━━━━━━━━━━━━━━━\u001b[0m \u001b[32m5.1/5.1 MB\u001b[0m \u001b[31m115.9 MB/s\u001b[0m eta \u001b[36m0:00:00\u001b[0m\n",
            "\u001b[?25hDownloading cramjam-2.10.0-cp311-cp311-manylinux_2_17_x86_64.manylinux2014_x86_64.whl (2.0 MB)\n",
            "\u001b[2K   \u001b[90m━━━━━━━━━━━━━━━━━━━━━━━━━━━━━━━━━━━━━━━━\u001b[0m \u001b[32m2.0/2.0 MB\u001b[0m \u001b[31m71.2 MB/s\u001b[0m eta \u001b[36m0:00:00\u001b[0m\n",
            "\u001b[?25hDownloading tensorboard_data_server-0.7.2-py3-none-manylinux_2_31_x86_64.whl (6.6 MB)\n",
            "\u001b[2K   \u001b[90m━━━━━━━━━━━━━━━━━━━━━━━━━━━━━━━━━━━━━━━━\u001b[0m \u001b[32m6.6/6.6 MB\u001b[0m \u001b[31m120.4 MB/s\u001b[0m eta \u001b[36m0:00:00\u001b[0m\n",
            "\u001b[?25hDownloading werkzeug-3.1.3-py3-none-any.whl (224 kB)\n",
            "\u001b[2K   \u001b[90m━━━━━━━━━━━━━━━━━━━━━━━━━━━━━━━━━━━━━━━━\u001b[0m \u001b[32m224.5/224.5 kB\u001b[0m \u001b[31m16.8 MB/s\u001b[0m eta \u001b[36m0:00:00\u001b[0m\n",
            "\u001b[?25hDownloading wheel-0.45.1-py3-none-any.whl (72 kB)\n",
            "\u001b[2K   \u001b[90m━━━━━━━━━━━━━━━━━━━━━━━━━━━━━━━━━━━━━━━━\u001b[0m \u001b[32m72.5/72.5 kB\u001b[0m \u001b[31m5.7 MB/s\u001b[0m eta \u001b[36m0:00:00\u001b[0m\n",
            "\u001b[?25hBuilding wheels for collected packages: dopamine_rl, gym\n",
            "  Building wheel for dopamine_rl (pyproject.toml) ... \u001b[?25l\u001b[?25hdone\n",
            "  Created wheel for dopamine_rl: filename=dopamine_rl-4.1.2-py3-none-any.whl size=290610 sha256=eadc4919b38c6e2b2f58c5986a1c57dfdc3d8882e3f7e0b9f1e2f439612ff921\n",
            "  Stored in directory: /tmp/pip-ephem-wheel-cache-up4tr3b4/wheels/82/74/44/b2249b6e54337da24142c6c0aaf040454e810ff06067fc1674\n",
            "  Building wheel for gym (pyproject.toml) ... \u001b[?25l\u001b[?25hdone\n",
            "  Created wheel for gym: filename=gym-0.25.2-py3-none-any.whl size=852396 sha256=eed6809d10e7f799d3fb1be6219c851a927d6b77978d248a6fcd42c50a2b694e\n",
            "  Stored in directory: /root/.cache/pip/wheels/7e/09/48/68ead2493e0b2c26cb6aeb5a712d379f638b5cc21d3501e2f0\n",
            "Successfully built dopamine_rl gym\n",
            "Installing collected packages: libclang, gym_notices, gin-config, flatbuffers, farama-notifications, wheel, werkzeug, tf_slim, tensorflow-io-gcs-filesystem, tensorboard-data-server, pygame, opencv-python, gymnasium, gym, google-pasta, cramjam, ale_py, tensorboard, python-snappy, astunparse, tensorflow, tf-keras, dopamine_rl\n",
            "Successfully installed ale_py-0.11.0 astunparse-1.6.3 cramjam-2.10.0 dopamine_rl-4.1.2 farama-notifications-0.0.4 flatbuffers-25.2.10 gin-config-0.5.0 google-pasta-0.2.0 gym-0.25.2 gym_notices-0.0.8 gymnasium-1.1.1 libclang-18.1.1 opencv-python-4.11.0.86 pygame-2.6.1 python-snappy-0.7.3 tensorboard-2.19.0 tensorboard-data-server-0.7.2 tensorflow-2.19.0 tensorflow-io-gcs-filesystem-0.37.1 tf-keras-2.19.0 tf_slim-1.1.0 werkzeug-3.1.3 wheel-0.45.1\n"
          ]
        }
      ],
      "source": [
        "# @title Install necessary packages.\n",
        "!pip install git+https://github.com/google/dopamine.git\n"
      ]
    },
    {
      "cell_type": "code",
      "execution_count": 5,
      "metadata": {
        "id": "WzwZoRKxdFov"
      },
      "outputs": [],
      "source": [
        "# @title Necessary imports and globals.\n",
        "\n",
        "import numpy as np\n",
        "import os\n",
        "from dopamine.discrete_domains import run_experiment\n",
        "from dopamine.colab import utils as colab_utils\n",
        "from absl import flags\n",
        "import gin\n",
        "import dopamine\n",
        "BASE_PATH = '/tmp/colab_dopamine_run'  # @param"
      ]
    },
    {
      "cell_type": "markdown",
      "metadata": {
        "id": "bidurBV0djGi"
      },
      "source": [
        "## Train DQN"
      ]
    },
    {
      "cell_type": "code",
      "execution_count": 6,
      "metadata": {
        "colab": {
          "base_uri": "https://localhost:8080/"
        },
        "id": "PUBRSmX6dfa3",
        "outputId": "9c0d1b6e-f090-476d-db12-349085c1b19a"
      },
      "outputs": [
        {
          "output_type": "execute_result",
          "data": {
            "text/plain": [
              "([],\n",
              " ['dopamine.discrete_domains.gym_lib',\n",
              "  'dopamine.discrete_domains.run_experiment',\n",
              "  'dopamine.jax.agents.dqn.dqn_agent',\n",
              "  'dopamine.jax.networks',\n",
              "  'dopamine.tf.replay_memory.circular_replay_buffer'])"
            ]
          },
          "metadata": {},
          "execution_count": 6
        }
      ],
      "source": [
        "# @title Load the configuration for DQN.\n",
        "\n",
        "DQN_PATH = os.path.join(BASE_PATH, 'dqn')\n",
        "# Modified from dopamine/jax/agents/dqn/config/dqn_cartpole.gin\n",
        "dqn_config = \"\"\"\n",
        "# Hyperparameters for a simple DQN-style Cartpole agent. The hyperparameters\n",
        "# chosen achieve reasonable performance.\n",
        "import dopamine.discrete_domains.gym_lib\n",
        "import dopamine.discrete_domains.run_experiment\n",
        "import dopamine.jax.agents.dqn.dqn_agent\n",
        "import dopamine.jax.networks\n",
        "import dopamine.tf.replay_memory.circular_replay_buffer\n",
        "\n",
        "JaxDQNAgent.observation_shape = %gym_lib.CARTPOLE_OBSERVATION_SHAPE\n",
        "JaxDQNAgent.observation_dtype = %jax_networks.CARTPOLE_OBSERVATION_DTYPE\n",
        "JaxDQNAgent.stack_size = %gym_lib.CARTPOLE_STACK_SIZE\n",
        "JaxDQNAgent.network = @networks.ClassicControlDQNNetwork\n",
        "JaxDQNAgent.gamma = 0.99\n",
        "JaxDQNAgent.update_horizon = 1\n",
        "JaxDQNAgent.min_replay_history = 500\n",
        "JaxDQNAgent.update_period = 4\n",
        "JaxDQNAgent.target_update_period = 100\n",
        "JaxDQNAgent.epsilon_fn = @dopamine.jax.agents.dqn.dqn_agent.identity_epsilon\n",
        "JaxDQNAgent.optimizer = 'adam'\n",
        "\n",
        "ClassicControlDQNNetwork.min_vals = %jax_networks.CARTPOLE_MIN_VALS\n",
        "ClassicControlDQNNetwork.max_vals = %jax_networks.CARTPOLE_MAX_VALS\n",
        "\n",
        "create_gym_environment.environment_name = 'CartPole'\n",
        "create_gym_environment.version = 'v0'\n",
        "create_runner.schedule = 'continuous_train'\n",
        "create_agent.agent_name = 'jax_dqn'\n",
        "TrainRunner.create_environment_fn = @gym_lib.create_gym_environment\n",
        "Runner.num_iterations = 50\n",
        "Runner.training_steps = 1000\n",
        "Runner.evaluation_steps = 1000\n",
        "Runner.max_steps_per_episode = 200  # Default max episode length.\n",
        "\n",
        "ReplayBuffer.max_capacity = 50_000\n",
        "ReplayBuffer.batch_size = 128\n",
        "\"\"\"\n",
        "\n",
        "gin.parse_config(dqn_config, skip_unknown=False)"
      ]
    },
    {
      "cell_type": "code",
      "execution_count": 7,
      "metadata": {
        "colab": {
          "base_uri": "https://localhost:8080/",
          "height": 188,
          "referenced_widgets": [
            "7e5780772ce347fb832b2d50121c48a2",
            "2fd2677220d642ad9e5ccaa6603a3051",
            "2eb9723dd2314c2ea31b9e204c8e5777",
            "8ddc89edaa6a4fe7a969d3532358251f",
            "6df38243cd354e2b8d09ab87d595206e",
            "a3fc05bb3ad7460a9ae898dc6bcd80b9",
            "8dd0412ec4094c17900654599a1ce9c7",
            "c90f32f370214efe9c6ac89f184fab06",
            "b472e4a74bee40c39eab1bd86f60dd88",
            "947ecb4c2c094a3cb539f5c46590532f",
            "20348a885b4d4522aee1fe848940e771"
          ]
        },
        "id": "WuWFGwGHfkFp",
        "outputId": "ea47a932-99ed-4bae-f82d-5300b84c0ec8"
      },
      "outputs": [
        {
          "output_type": "stream",
          "name": "stderr",
          "text": [
            "WARNING:absl:DEPRECATION WARNING: Logger is being deprecated. Please switch to CollectorDispatcher!\n",
            "/usr/local/lib/python3.11/dist-packages/gymnasium/envs/registration.py:519: DeprecationWarning: \u001b[33mWARN: The environment CartPole-v0 is out of date. You should consider upgrading to version `v1`.\u001b[0m\n",
            "  logger.deprecation(\n"
          ]
        },
        {
          "output_type": "stream",
          "name": "stdout",
          "text": [
            "Will train DQN agent, please be patient, may be a while...\n"
          ]
        },
        {
          "output_type": "display_data",
          "data": {
            "text/plain": [
              "  0%|          | 0/50 [00:00<?, ?it/s]"
            ],
            "application/vnd.jupyter.widget-view+json": {
              "version_major": 2,
              "version_minor": 0,
              "model_id": "7e5780772ce347fb832b2d50121c48a2"
            }
          },
          "metadata": {}
        },
        {
          "output_type": "stream",
          "name": "stderr",
          "text": [
            "WARNING:absl:Got kwargs {'priority': None} to `UniformDistribution.add`, ignoring...\n"
          ]
        },
        {
          "output_type": "stream",
          "name": "stdout",
          "text": []
        },
        {
          "output_type": "stream",
          "name": "stderr",
          "text": [
            "WARNING:absl:No registered CheckpointArgs found for handler type: <class 'dopamine.jax.checkpointers.CheckpointHandler'>\n",
            "WARNING:absl:Configured `CheckpointManager` using deprecated legacy API. Please follow the instructions at https://orbax.readthedocs.io/en/latest/api_refactor.html to migrate.\n"
          ]
        },
        {
          "output_type": "stream",
          "name": "stdout",
          "text": [
            "Done training!\n"
          ]
        }
      ],
      "source": [
        "# @title Train DQN on Cartpole\n",
        "dqn_runner = run_experiment.create_runner(DQN_PATH, schedule='continuous_train')\n",
        "print('Will train DQN agent, please be patient, may be a while...')\n",
        "dqn_runner.run_experiment()\n",
        "print('Done training!')"
      ]
    },
    {
      "cell_type": "markdown",
      "metadata": {
        "id": "aRkvG1Nr6Etc"
      },
      "source": [
        "# Train C51"
      ]
    },
    {
      "cell_type": "code",
      "execution_count": 9,
      "metadata": {
        "colab": {
          "base_uri": "https://localhost:8080/"
        },
        "id": "s5o3a8HX6G2A",
        "outputId": "cb59ff0d-5516-4e5a-f4aa-3ea3612c0418"
      },
      "outputs": [
        {
          "output_type": "execute_result",
          "data": {
            "text/plain": [
              "([],\n",
              " ['dopamine.jax.agents.dqn.dqn_agent',\n",
              "  'dopamine.jax.agents.rainbow.rainbow_agent',\n",
              "  'dopamine.discrete_domains.gym_lib',\n",
              "  'dopamine.discrete_domains.run_experiment',\n",
              "  'dopamine.jax.networks',\n",
              "  'dopamine.tf.replay_memory.prioritized_replay_buffer'])"
            ]
          },
          "metadata": {},
          "execution_count": 9
        }
      ],
      "source": [
        "# @title Load the configuration for C51.\n",
        "\n",
        "C51_PATH = os.path.join(BASE_PATH, 'c51')\n",
        "# Modified from dopamine/jax/agents/rainbow/config/c51_cartpole.gin\n",
        "c51_config = \"\"\"\n",
        "# Hyperparameters for a simple C51-style Cartpole agent. The hyperparameters\n",
        "# chosen achieve reasonable performance.\n",
        "import dopamine.jax.agents.dqn.dqn_agent\n",
        "import dopamine.jax.agents.rainbow.rainbow_agent\n",
        "import dopamine.discrete_domains.gym_lib\n",
        "import dopamine.discrete_domains.run_experiment\n",
        "import dopamine.jax.networks\n",
        "import dopamine.tf.replay_memory.prioritized_replay_buffer\n",
        "\n",
        "JaxRainbowAgent.observation_shape = %gym_lib.CARTPOLE_OBSERVATION_SHAPE\n",
        "JaxRainbowAgent.observation_dtype = %jax_networks.CARTPOLE_OBSERVATION_DTYPE\n",
        "JaxRainbowAgent.stack_size = %gym_lib.CARTPOLE_STACK_SIZE\n",
        "JaxRainbowAgent.network = @networks.ClassicControlRainbowNetwork\n",
        "JaxRainbowAgent.num_atoms = 201\n",
        "JaxRainbowAgent.vmax = 100.\n",
        "JaxRainbowAgent.gamma = 0.99\n",
        "JaxRainbowAgent.epsilon_eval = 0.\n",
        "JaxRainbowAgent.epsilon_train = 0.01\n",
        "JaxRainbowAgent.update_horizon = 1\n",
        "JaxRainbowAgent.min_replay_history = 500\n",
        "JaxRainbowAgent.update_period = 1\n",
        "JaxRainbowAgent.target_update_period = 1\n",
        "JaxRainbowAgent.epsilon_fn = @dopamine.jax.agents.dqn.dqn_agent.identity_epsilon\n",
        "JaxRainbowAgent.replay_scheme = 'uniform'\n",
        "create_optimizer.learning_rate = 0.00001\n",
        "create_optimizer.eps = 0.00000390625\n",
        "\n",
        "ClassicControlRainbowNetwork.min_vals = %jax_networks.CARTPOLE_MIN_VALS\n",
        "ClassicControlRainbowNetwork.max_vals = %jax_networks.CARTPOLE_MAX_VALS\n",
        "\n",
        "create_gym_environment.environment_name = 'CartPole'\n",
        "create_gym_environment.version = 'v0'\n",
        "create_runner.schedule = 'continuous_train'\n",
        "create_agent.agent_name = 'jax_rainbow'\n",
        "TrainRunner.create_environment_fn = @gym_lib.create_gym_environment\n",
        "Runner.num_iterations = 50\n",
        "Runner.training_steps = 1000\n",
        "Runner.evaluation_steps = 1000\n",
        "Runner.max_steps_per_episode = 200  # Default max episode length.\n",
        "\n",
        "ReplayBuffer.max_capacity = 50_000\n",
        "ReplayBuffer.batch_size = 128\n",
        "PrioritizedSamplingDistribution.max_capacity = 50_000\n",
        "\"\"\"\n",
        "gin.parse_config(c51_config, skip_unknown=False)"
      ]
    },
    {
      "cell_type": "code",
      "execution_count": 10,
      "metadata": {
        "colab": {
          "base_uri": "https://localhost:8080/",
          "height": 170,
          "referenced_widgets": [
            "81e3a8e80a9b42779bdf56b547605b53",
            "1204876c77a5469b97986d5ac4700009",
            "de3157385bac4d0d9e51427005b9eeec",
            "0ca7a837af3744f388999c710bf177fa",
            "eb7b83f853d54ea383c3de20daccb134",
            "7c9e7a9fa4874541ac4ae81b4a956301",
            "4588ba334d944cad8eb0494d6dc40611",
            "7d917488d20746d498fe2837cbb57cff",
            "77b80a8fd618429bb23b66b97215ebc4",
            "080f51417ab7466499796801b693a800",
            "8c9f2f5a9db84919828e84e074605426"
          ]
        },
        "id": "VI_v9lm66jzq",
        "outputId": "e7ddf729-6451-450f-f72b-79176d527b31"
      },
      "outputs": [
        {
          "output_type": "stream",
          "name": "stderr",
          "text": [
            "WARNING:absl:DEPRECATION WARNING: Logger is being deprecated. Please switch to CollectorDispatcher!\n",
            "/usr/local/lib/python3.11/dist-packages/gymnasium/envs/registration.py:519: DeprecationWarning: \u001b[33mWARN: The environment CartPole-v0 is out of date. You should consider upgrading to version `v1`.\u001b[0m\n",
            "  logger.deprecation(\n"
          ]
        },
        {
          "output_type": "stream",
          "name": "stdout",
          "text": [
            "Will train agent, please be patient, may be a while...\n"
          ]
        },
        {
          "output_type": "display_data",
          "data": {
            "text/plain": [
              "  0%|          | 0/50 [00:00<?, ?it/s]"
            ],
            "application/vnd.jupyter.widget-view+json": {
              "version_major": 2,
              "version_minor": 0,
              "model_id": "81e3a8e80a9b42779bdf56b547605b53"
            }
          },
          "metadata": {}
        },
        {
          "output_type": "stream",
          "name": "stdout",
          "text": []
        },
        {
          "output_type": "stream",
          "name": "stderr",
          "text": [
            "WARNING:absl:No registered CheckpointArgs found for handler type: <class 'dopamine.jax.checkpointers.CheckpointHandler'>\n",
            "WARNING:absl:Configured `CheckpointManager` using deprecated legacy API. Please follow the instructions at https://orbax.readthedocs.io/en/latest/api_refactor.html to migrate.\n"
          ]
        },
        {
          "output_type": "stream",
          "name": "stdout",
          "text": [
            "Done training!\n"
          ]
        }
      ],
      "source": [
        "# @title Train C51 on Cartpole\n",
        "c51_runner = run_experiment.create_runner(C51_PATH, schedule='continuous_train')\n",
        "print('Will train agent, please be patient, may be a while...')\n",
        "c51_runner.run_experiment()\n",
        "print('Done training!')"
      ]
    },
    {
      "cell_type": "markdown",
      "metadata": {
        "id": "hqBe5Yad63FT"
      },
      "source": [
        "# Plot the results"
      ]
    },
    {
      "cell_type": "code",
      "execution_count": 11,
      "metadata": {
        "colab": {
          "base_uri": "https://localhost:8080/"
        },
        "id": "IknanILXX4Zz",
        "outputId": "7fac10e1-9a31-4ed2-ae89-668249b9c7ab"
      },
      "outputs": [
        {
          "output_type": "stream",
          "name": "stdout",
          "text": [
            "Reading statistics from: /tmp/colab_dopamine_run/dqn//logs/log_49\n",
            "Reading statistics from: /tmp/colab_dopamine_run/c51//logs/log_49\n"
          ]
        }
      ],
      "source": [
        "# @title Load the training logs.\n",
        "data = colab_utils.read_experiment(DQN_PATH, verbose=True,\n",
        "                                   summary_keys=['train_episode_returns'])\n",
        "data['agent'] = 'DQN'\n",
        "data['run'] = 1\n",
        "c51_data = colab_utils.read_experiment(C51_PATH, verbose=True,\n",
        "                                       summary_keys=['train_episode_returns'])\n",
        "c51_data['agent'] = 'C51'\n",
        "c51_data['run'] = 1\n",
        "data = data.merge(c51_data, how='outer')"
      ]
    },
    {
      "cell_type": "code",
      "execution_count": 12,
      "metadata": {
        "colab": {
          "base_uri": "https://localhost:8080/",
          "height": 718
        },
        "id": "mSOVFUKN-kea",
        "outputId": "cec70378-8a0b-4d65-ef1c-5ac8fac6e48f"
      },
      "outputs": [
        {
          "output_type": "display_data",
          "data": {
            "text/plain": [
              "<Figure size 1600x800 with 1 Axes>"
            ],
            "image/png": "[encoded data removed]"
          },
          "metadata": {}
        }
      ],
      "source": [
        "# @title Plot training results.\n",
        "\n",
        "import seaborn as sns\n",
        "import matplotlib.pyplot as plt\n",
        "\n",
        "fig, ax = plt.subplots(figsize=(16,8))\n",
        "sns.lineplot(x='iteration', y='train_episode_returns', hue='agent',\n",
        "             data=data, ax=ax)\n",
        "plt.title('Cartpole')\n",
        "plt.show()"
      ]
    }
  ],
  "metadata": {
    "accelerator": "TPU",
    "colab": {
      "name": "cartpole.ipynb",
      "provenance": [],
      "toc_visible": true,
      "gpuType": "V28"
    },
    "kernelspec": {
      "display_name": "Python 3",
      "name": "python3"
    },
    "widgets": {
      "application/vnd.jupyter.widget-state+json": {
        "7e5780772ce347fb832b2d50121c48a2": {
          "model_module": "@jupyter-widgets/controls",
          "model_name": "HBoxModel",
          "model_module_version": "1.5.0",
          "state": {
            "_dom_classes": [],
            "_model_module": "@jupyter-widgets/controls",
            "_model_module_version": "1.5.0",
            "_model_name": "HBoxModel",
            "_view_count": null,
            "_view_module": "@jupyter-widgets/controls",
            "_view_module_version": "1.5.0",
            "_view_name": "HBoxView",
            "box_style": "",
            "children": [
              "IPY_MODEL_2fd2677220d642ad9e5ccaa6603a3051",
              "IPY_MODEL_2eb9723dd2314c2ea31b9e204c8e5777",
              "IPY_MODEL_8ddc89edaa6a4fe7a969d3532358251f"
            ],
            "layout": "IPY_MODEL_6df38243cd354e2b8d09ab87d595206e"
          }
        },
        "2fd2677220d642ad9e5ccaa6603a3051": {
          "model_module": "@jupyter-widgets/controls",
          "model_name": "HTMLModel",
          "model_module_version": "1.5.0",
          "state": {
            "_dom_classes": [],
            "_model_module": "@jupyter-widgets/controls",
            "_model_module_version": "1.5.0",
            "_model_name": "HTMLModel",
            "_view_count": null,
            "_view_module": "@jupyter-widgets/controls",
            "_view_module_version": "1.5.0",
            "_view_name": "HTMLView",
            "description": "",
            "description_tooltip": null,
            "layout": "IPY_MODEL_a3fc05bb3ad7460a9ae898dc6bcd80b9",
            "placeholder": "​",
            "style": "IPY_MODEL_8dd0412ec4094c17900654599a1ce9c7",
            "value": "100%"
          }
        },
        "2eb9723dd2314c2ea31b9e204c8e5777": {
          "model_module": "@jupyter-widgets/controls",
          "model_name": "FloatProgressModel",
          "model_module_version": "1.5.0",
          "state": {
            "_dom_classes": [],
            "_model_module": "@jupyter-widgets/controls",
            "_model_module_version": "1.5.0",
            "_model_name": "FloatProgressModel",
            "_view_count": null,
            "_view_module": "@jupyter-widgets/controls",
            "_view_module_version": "1.5.0",
            "_view_name": "ProgressView",
            "bar_style": "success",
            "description": "",
            "description_tooltip": null,
            "layout": "IPY_MODEL_c90f32f370214efe9c6ac89f184fab06",
            "max": 50,
            "min": 0,
            "orientation": "horizontal",
            "style": "IPY_MODEL_b472e4a74bee40c39eab1bd86f60dd88",
            "value": 50
          }
        },
        "8ddc89edaa6a4fe7a969d3532358251f": {
          "model_module": "@jupyter-widgets/controls",
          "model_name": "HTMLModel",
          "model_module_version": "1.5.0",
          "state": {
            "_dom_classes": [],
            "_model_module": "@jupyter-widgets/controls",
            "_model_module_version": "1.5.0",
            "_model_name": "HTMLModel",
            "_view_count": null,
            "_view_module": "@jupyter-widgets/controls",
            "_view_module_version": "1.5.0",
            "_view_name": "HTMLView",
            "description": "",
            "description_tooltip": null,
            "layout": "IPY_MODEL_947ecb4c2c094a3cb539f5c46590532f",
            "placeholder": "​",
            "style": "IPY_MODEL_20348a885b4d4522aee1fe848940e771",
            "value": " 50/50 [03:06&lt;00:00,  4.32s/it]"
          }
        },
        "6df38243cd354e2b8d09ab87d595206e": {
          "model_module": "@jupyter-widgets/base",
          "model_name": "LayoutModel",
          "model_module_version": "1.2.0",
          "state": {
            "_model_module": "@jupyter-widgets/base",
            "_model_module_version": "1.2.0",
            "_model_name": "LayoutModel",
            "_view_count": null,
            "_view_module": "@jupyter-widgets/base",
            "_view_module_version": "1.2.0",
            "_view_name": "LayoutView",
            "align_content": null,
            "align_items": null,
            "align_self": null,
            "border": null,
            "bottom": null,
            "display": null,
            "flex": null,
            "flex_flow": null,
            "grid_area": null,
            "grid_auto_columns": null,
            "grid_auto_flow": null,
            "grid_auto_rows": null,
            "grid_column": null,
            "grid_gap": null,
            "grid_row": null,
            "grid_template_areas": null,
            "grid_template_columns": null,
            "grid_template_rows": null,
            "height": null,
            "justify_content": null,
            "justify_items": null,
            "left": null,
            "margin": null,
            "max_height": null,
            "max_width": null,
            "min_height": null,
            "min_width": null,
            "object_fit": null,
            "object_position": null,
            "order": null,
            "overflow": null,
            "overflow_x": null,
            "overflow_y": null,
            "padding": null,
            "right": null,
            "top": null,
            "visibility": null,
            "width": null
          }
        },
        "a3fc05bb3ad7460a9ae898dc6bcd80b9": {
          "model_module": "@jupyter-widgets/base",
          "model_name": "LayoutModel",
          "model_module_version": "1.2.0",
          "state": {
            "_model_module": "@jupyter-widgets/base",
            "_model_module_version": "1.2.0",
            "_model_name": "LayoutModel",
            "_view_count": null,
            "_view_module": "@jupyter-widgets/base",
            "_view_module_version": "1.2.0",
            "_view_name": "LayoutView",
            "align_content": null,
            "align_items": null,
            "align_self": null,
            "border": null,
            "bottom": null,
            "display": null,
            "flex": null,
            "flex_flow": null,
            "grid_area": null,
            "grid_auto_columns": null,
            "grid_auto_flow": null,
            "grid_auto_rows": null,
            "grid_column": null,
            "grid_gap": null,
            "grid_row": null,
            "grid_template_areas": null,
            "grid_template_columns": null,
            "grid_template_rows": null,
            "height": null,
            "justify_content": null,
            "justify_items": null,
            "left": null,
            "margin": null,
            "max_height": null,
            "max_width": null,
            "min_height": null,
            "min_width": null,
            "object_fit": null,
            "object_position": null,
            "order": null,
            "overflow": null,
            "overflow_x": null,
            "overflow_y": null,
            "padding": null,
            "right": null,
            "top": null,
            "visibility": null,
            "width": null
          }
        },
        "8dd0412ec4094c17900654599a1ce9c7": {
          "model_module": "@jupyter-widgets/controls",
          "model_name": "DescriptionStyleModel",
          "model_module_version": "1.5.0",
          "state": {
            "_model_module": "@jupyter-widgets/controls",
            "_model_module_version": "1.5.0",
            "_model_name": "DescriptionStyleModel",
            "_view_count": null,
            "_view_module": "@jupyter-widgets/base",
            "_view_module_version": "1.2.0",
            "_view_name": "StyleView",
            "description_width": ""
          }
        },
        "c90f32f370214efe9c6ac89f184fab06": {
          "model_module": "@jupyter-widgets/base",
          "model_name": "LayoutModel",
          "model_module_version": "1.2.0",
          "state": {
            "_model_module": "@jupyter-widgets/base",
            "_model_module_version": "1.2.0",
            "_model_name": "LayoutModel",
            "_view_count": null,
            "_view_module": "@jupyter-widgets/base",
            "_view_module_version": "1.2.0",
            "_view_name": "LayoutView",
            "align_content": null,
            "align_items": null,
            "align_self": null,
            "border": null,
            "bottom": null,
            "display": null,
            "flex": null,
            "flex_flow": null,
            "grid_area": null,
            "grid_auto_columns": null,
            "grid_auto_flow": null,
            "grid_auto_rows": null,
            "grid_column": null,
            "grid_gap": null,
            "grid_row": null,
            "grid_template_areas": null,
            "grid_template_columns": null,
            "grid_template_rows": null,
            "height": null,
            "justify_content": null,
            "justify_items": null,
            "left": null,
            "margin": null,
            "max_height": null,
            "max_width": null,
            "min_height": null,
            "min_width": null,
            "object_fit": null,
            "object_position": null,
            "order": null,
            "overflow": null,
            "overflow_x": null,
            "overflow_y": null,
            "padding": null,
            "right": null,
            "top": null,
            "visibility": null,
            "width": null
          }
        },
        "b472e4a74bee40c39eab1bd86f60dd88": {
          "model_module": "@jupyter-widgets/controls",
          "model_name": "ProgressStyleModel",
          "model_module_version": "1.5.0",
          "state": {
            "_model_module": "@jupyter-widgets/controls",
            "_model_module_version": "1.5.0",
            "_model_name": "ProgressStyleModel",
            "_view_count": null,
            "_view_module": "@jupyter-widgets/base",
            "_view_module_version": "1.2.0",
            "_view_name": "StyleView",
            "bar_color": null,
            "description_width": ""
          }
        },
        "947ecb4c2c094a3cb539f5c46590532f": {
          "model_module": "@jupyter-widgets/base",
          "model_name": "LayoutModel",
          "model_module_version": "1.2.0",
          "state": {
            "_model_module": "@jupyter-widgets/base",
            "_model_module_version": "1.2.0",
            "_model_name": "LayoutModel",
            "_view_count": null,
            "_view_module": "@jupyter-widgets/base",
            "_view_module_version": "1.2.0",
            "_view_name": "LayoutView",
            "align_content": null,
            "align_items": null,
            "align_self": null,
            "border": null,
            "bottom": null,
            "display": null,
            "flex": null,
            "flex_flow": null,
            "grid_area": null,
            "grid_auto_columns": null,
            "grid_auto_flow": null,
            "grid_auto_rows": null,
            "grid_column": null,
            "grid_gap": null,
            "grid_row": null,
            "grid_template_areas": null,
            "grid_template_columns": null,
            "grid_template_rows": null,
            "height": null,
            "justify_content": null,
            "justify_items": null,
            "left": null,
            "margin": null,
            "max_height": null,
            "max_width": null,
            "min_height": null,
            "min_width": null,
            "object_fit": null,
            "object_position": null,
            "order": null,
            "overflow": null,
            "overflow_x": null,
            "overflow_y": null,
            "padding": null,
            "right": null,
            "top": null,
            "visibility": null,
            "width": null
          }
        },
        "20348a885b4d4522aee1fe848940e771": {
          "model_module": "@jupyter-widgets/controls",
          "model_name": "DescriptionStyleModel",
          "model_module_version": "1.5.0",
          "state": {
            "_model_module": "@jupyter-widgets/controls",
            "_model_module_version": "1.5.0",
            "_model_name": "DescriptionStyleModel",
            "_view_count": null,
            "_view_module": "@jupyter-widgets/base",
            "_view_module_version": "1.2.0",
            "_view_name": "StyleView",
            "description_width": ""
          }
        },
        "81e3a8e80a9b42779bdf56b547605b53": {
          "model_module": "@jupyter-widgets/controls",
          "model_name": "HBoxModel",
          "model_module_version": "1.5.0",
          "state": {
            "_dom_classes": [],
            "_model_module": "@jupyter-widgets/controls",
            "_model_module_version": "1.5.0",
            "_model_name": "HBoxModel",
            "_view_count": null,
            "_view_module": "@jupyter-widgets/controls",
            "_view_module_version": "1.5.0",
            "_view_name": "HBoxView",
            "box_style": "",
            "children": [
              "IPY_MODEL_1204876c77a5469b97986d5ac4700009",
              "IPY_MODEL_de3157385bac4d0d9e51427005b9eeec",
              "IPY_MODEL_0ca7a837af3744f388999c710bf177fa"
            ],
            "layout": "IPY_MODEL_eb7b83f853d54ea383c3de20daccb134"
          }
        },
        "1204876c77a5469b97986d5ac4700009": {
          "model_module": "@jupyter-widgets/controls",
          "model_name": "HTMLModel",
          "model_module_version": "1.5.0",
          "state": {
            "_dom_classes": [],
            "_model_module": "@jupyter-widgets/controls",
            "_model_module_version": "1.5.0",
            "_model_name": "HTMLModel",
            "_view_count": null,
            "_view_module": "@jupyter-widgets/controls",
            "_view_module_version": "1.5.0",
            "_view_name": "HTMLView",
            "description": "",
            "description_tooltip": null,
            "layout": "IPY_MODEL_7c9e7a9fa4874541ac4ae81b4a956301",
            "placeholder": "​",
            "style": "IPY_MODEL_4588ba334d944cad8eb0494d6dc40611",
            "value": "100%"
          }
        },
        "de3157385bac4d0d9e51427005b9eeec": {
          "model_module": "@jupyter-widgets/controls",
          "model_name": "FloatProgressModel",
          "model_module_version": "1.5.0",
          "state": {
            "_dom_classes": [],
            "_model_module": "@jupyter-widgets/controls",
            "_model_module_version": "1.5.0",
            "_model_name": "FloatProgressModel",
            "_view_count": null,
            "_view_module": "@jupyter-widgets/controls",
            "_view_module_version": "1.5.0",
            "_view_name": "ProgressView",
            "bar_style": "success",
            "description": "",
            "description_tooltip": null,
            "layout": "IPY_MODEL_7d917488d20746d498fe2837cbb57cff",
            "max": 50,
            "min": 0,
            "orientation": "horizontal",
            "style": "IPY_MODEL_77b80a8fd618429bb23b66b97215ebc4",
            "value": 50
          }
        },
        "0ca7a837af3744f388999c710bf177fa": {
          "model_module": "@jupyter-widgets/controls",
          "model_name": "HTMLModel",
          "model_module_version": "1.5.0",
          "state": {
            "_dom_classes": [],
            "_model_module": "@jupyter-widgets/controls",
            "_model_module_version": "1.5.0",
            "_model_name": "HTMLModel",
            "_view_count": null,
            "_view_module": "@jupyter-widgets/controls",
            "_view_module_version": "1.5.0",
            "_view_name": "HTMLView",
            "description": "",
            "description_tooltip": null,
            "layout": "IPY_MODEL_080f51417ab7466499796801b693a800",
            "placeholder": "​",
            "style": "IPY_MODEL_8c9f2f5a9db84919828e84e074605426",
            "value": " 50/50 [06:51&lt;00:00,  8.88s/it]"
          }
        },
        "eb7b83f853d54ea383c3de20daccb134": {
          "model_module": "@jupyter-widgets/base",
          "model_name": "LayoutModel",
          "model_module_version": "1.2.0",
          "state": {
            "_model_module": "@jupyter-widgets/base",
            "_model_module_version": "1.2.0",
            "_model_name": "LayoutModel",
            "_view_count": null,
            "_view_module": "@jupyter-widgets/base",
            "_view_module_version": "1.2.0",
            "_view_name": "LayoutView",
            "align_content": null,
            "align_items": null,
            "align_self": null,
            "border": null,
            "bottom": null,
            "display": null,
            "flex": null,
            "flex_flow": null,
            "grid_area": null,
            "grid_auto_columns": null,
            "grid_auto_flow": null,
            "grid_auto_rows": null,
            "grid_column": null,
            "grid_gap": null,
            "grid_row": null,
            "grid_template_areas": null,
            "grid_template_columns": null,
            "grid_template_rows": null,
            "height": null,
            "justify_content": null,
            "justify_items": null,
            "left": null,
            "margin": null,
            "max_height": null,
            "max_width": null,
            "min_height": null,
            "min_width": null,
            "object_fit": null,
            "object_position": null,
            "order": null,
            "overflow": null,
            "overflow_x": null,
            "overflow_y": null,
            "padding": null,
            "right": null,
            "top": null,
            "visibility": null,
            "width": null
          }
        },
        "7c9e7a9fa4874541ac4ae81b4a956301": {
          "model_module": "@jupyter-widgets/base",
          "model_name": "LayoutModel",
          "model_module_version": "1.2.0",
          "state": {
            "_model_module": "@jupyter-widgets/base",
            "_model_module_version": "1.2.0",
            "_model_name": "LayoutModel",
            "_view_count": null,
            "_view_module": "@jupyter-widgets/base",
            "_view_module_version": "1.2.0",
            "_view_name": "LayoutView",
            "align_content": null,
            "align_items": null,
            "align_self": null,
            "border": null,
            "bottom": null,
            "display": null,
            "flex": null,
            "flex_flow": null,
            "grid_area": null,
            "grid_auto_columns": null,
            "grid_auto_flow": null,
            "grid_auto_rows": null,
            "grid_column": null,
            "grid_gap": null,
            "grid_row": null,
            "grid_template_areas": null,
            "grid_template_columns": null,
            "grid_template_rows": null,
            "height": null,
            "justify_content": null,
            "justify_items": null,
            "left": null,
            "margin": null,
            "max_height": null,
            "max_width": null,
            "min_height": null,
            "min_width": null,
            "object_fit": null,
            "object_position": null,
            "order": null,
            "overflow": null,
            "overflow_x": null,
            "overflow_y": null,
            "padding": null,
            "right": null,
            "top": null,
            "visibility": null,
            "width": null
          }
        },
        "4588ba334d944cad8eb0494d6dc40611": {
          "model_module": "@jupyter-widgets/controls",
          "model_name": "DescriptionStyleModel",
          "model_module_version": "1.5.0",
          "state": {
            "_model_module": "@jupyter-widgets/controls",
            "_model_module_version": "1.5.0",
            "_model_name": "DescriptionStyleModel",
            "_view_count": null,
            "_view_module": "@jupyter-widgets/base",
            "_view_module_version": "1.2.0",
            "_view_name": "StyleView",
            "description_width": ""
          }
        },
        "7d917488d20746d498fe2837cbb57cff": {
          "model_module": "@jupyter-widgets/base",
          "model_name": "LayoutModel",
          "model_module_version": "1.2.0",
          "state": {
            "_model_module": "@jupyter-widgets/base",
            "_model_module_version": "1.2.0",
            "_model_name": "LayoutModel",
            "_view_count": null,
            "_view_module": "@jupyter-widgets/base",
            "_view_module_version": "1.2.0",
            "_view_name": "LayoutView",
            "align_content": null,
            "align_items": null,
            "align_self": null,
            "border": null,
            "bottom": null,
            "display": null,
            "flex": null,
            "flex_flow": null,
            "grid_area": null,
            "grid_auto_columns": null,
            "grid_auto_flow": null,
            "grid_auto_rows": null,
            "grid_column": null,
            "grid_gap": null,
            "grid_row": null,
            "grid_template_areas": null,
            "grid_template_columns": null,
            "grid_template_rows": null,
            "height": null,
            "justify_content": null,
            "justify_items": null,
            "left": null,
            "margin": null,
            "max_height": null,
            "max_width": null,
            "min_height": null,
            "min_width": null,
            "object_fit": null,
            "object_position": null,
            "order": null,
            "overflow": null,
            "overflow_x": null,
            "overflow_y": null,
            "padding": null,
            "right": null,
            "top": null,
            "visibility": null,
            "width": null
          }
        },
        "77b80a8fd618429bb23b66b97215ebc4": {
          "model_module": "@jupyter-widgets/controls",
          "model_name": "ProgressStyleModel",
          "model_module_version": "1.5.0",
          "state": {
            "_model_module": "@jupyter-widgets/controls",
            "_model_module_version": "1.5.0",
            "_model_name": "ProgressStyleModel",
            "_view_count": null,
            "_view_module": "@jupyter-widgets/base",
            "_view_module_version": "1.2.0",
            "_view_name": "StyleView",
            "bar_color": null,
            "description_width": ""
          }
        },
        "080f51417ab7466499796801b693a800": {
          "model_module": "@jupyter-widgets/base",
          "model_name": "LayoutModel",
          "model_module_version": "1.2.0",
          "state": {
            "_model_module": "@jupyter-widgets/base",
            "_model_module_version": "1.2.0",
            "_model_name": "LayoutModel",
            "_view_count": null,
            "_view_module": "@jupyter-widgets/base",
            "_view_module_version": "1.2.0",
            "_view_name": "LayoutView",
            "align_content": null,
            "align_items": null,
            "align_self": null,
            "border": null,
            "bottom": null,
            "display": null,
            "flex": null,
            "flex_flow": null,
            "grid_area": null,
            "grid_auto_columns": null,
            "grid_auto_flow": null,
            "grid_auto_rows": null,
            "grid_column": null,
            "grid_gap": null,
            "grid_row": null,
            "grid_template_areas": null,
            "grid_template_columns": null,
            "grid_template_rows": null,
            "height": null,
            "justify_content": null,
            "justify_items": null,
            "left": null,
            "margin": null,
            "max_height": null,
            "max_width": null,
            "min_height": null,
            "min_width": null,
            "object_fit": null,
            "object_position": null,
            "order": null,
            "overflow": null,
            "overflow_x": null,
            "overflow_y": null,
            "padding": null,
            "right": null,
            "top": null,
            "visibility": null,
            "width": null
          }
        },
        "8c9f2f5a9db84919828e84e074605426": {
          "model_module": "@jupyter-widgets/controls",
          "model_name": "DescriptionStyleModel",
          "model_module_version": "1.5.0",
          "state": {
            "_model_module": "@jupyter-widgets/controls",
            "_model_module_version": "1.5.0",
            "_model_name": "DescriptionStyleModel",
            "_view_count": null,
            "_view_module": "@jupyter-widgets/base",
            "_view_module_version": "1.2.0",
            "_view_name": "StyleView",
            "description_width": ""
          }
        }
      }
    }
  },
  "nbformat": 4,
  "nbformat_minor": 0
}